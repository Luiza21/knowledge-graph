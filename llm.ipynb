{
 "cells": [
  {
   "cell_type": "code",
   "execution_count": 2,
   "metadata": {},
   "outputs": [],
   "source": [
    "from langchain_neo4j import GraphCypherQAChain, Neo4jGraph\n",
    "from langchain_openai import ChatOpenAI\n",
    "\n",
    "import getpass\n",
    "import os\n",
    "\n",
    "if \"OPENAI_API_KEY\" not in os.environ:\n",
    "    os.environ[\"OPENAI_API_KEY\"] = getpass.getpass(\"OpenAI API Key:\")\n",
    "\n",
    "graph = Neo4jGraph(url=\"bolt://localhost:7687\", username=\"neo4j\", password=\"password\")"
   ]
  },
  {
   "cell_type": "code",
   "execution_count": null,
   "metadata": {},
   "outputs": [],
   "source": [
    "chain = GraphCypherQAChain.from_llm(\n",
    "    ChatOpenAI(temperature=0),\n",
    "    graph=graph,\n",
    "    verbose=True,\n",
    "    allow_dangerous_requests=True,\n",
    "    top_k=10,\n",
    "    # return_direct=True,\n",
    ")"
   ]
  },
  {
   "cell_type": "code",
   "execution_count": 16,
   "metadata": {},
   "outputs": [
    {
     "name": "stdout",
     "output_type": "stream",
     "text": [
      "\n",
      "\n",
      "\u001b[1m> Entering new GraphCypherQAChain chain...\u001b[0m\n",
      "Generated Cypher:\n",
      "\u001b[32;1m\u001b[1;3mMATCH (e1:Entity)-[r:RELATION]->(e2:Entity)\n",
      "WHERE e1.name = 'Komitas Vardapet'\n",
      "RETURN e1.name, r.type, e2.name;\u001b[0m\n",
      "Full Context:\n",
      "\u001b[32;1m\u001b[1;3m[{'e1.name': 'Komitas Vardapet', 'r.type': 'date of death', 'e2.name': '22 October 1935'}, {'e1.name': 'Komitas Vardapet', 'r.type': 'educated at', 'e2.name': 'Frederick William University'}, {'e1.name': 'Komitas Vardapet', 'r.type': 'country of citizenship', 'e2.name': 'Ottoman Empire'}, {'e1.name': 'Komitas Vardapet', 'r.type': 'place of birth', 'e2.name': 'Hüdavendigâr (Bursa) Vilayet'}]\u001b[0m\n",
      "\n",
      "\u001b[1m> Finished chain.\u001b[0m\n"
     ]
    },
    {
     "data": {
      "text/plain": [
       "{'query': 'You are bot that fetch info from graph database. You are given a query and you need to fetch the data from graph database and return the answer in a human readable format.Return all subject-predicate-object triplets. Question: Describe Komitas Vardapet based on info from graph?',\n",
       " 'result': 'Komitas Vardapet was born in Hüdavendigâr (Bursa) Vilayet in the Ottoman Empire. He passed away on 22 October 1935. Komitas Vardapet was educated at Frederick William University.'}"
      ]
     },
     "execution_count": 16,
     "metadata": {},
     "output_type": "execute_result"
    }
   ],
   "source": [
    "chain.invoke({\"query\": \"\"\"You are bot that fetch info from graph database. You are given a query and you need to fetch the data from graph database and return the answer in a human readable format.Return all subject-predicate-object triplets. Question: Describe Komitas Vardapet based on info from graph?\"\"\"})"
   ]
  },
  {
   "cell_type": "code",
   "execution_count": null,
   "metadata": {},
   "outputs": [],
   "source": []
  }
 ],
 "metadata": {
  "kernelspec": {
   "display_name": ".venv_llm",
   "language": "python",
   "name": "python3"
  },
  "language_info": {
   "codemirror_mode": {
    "name": "ipython",
    "version": 3
   },
   "file_extension": ".py",
   "mimetype": "text/x-python",
   "name": "python",
   "nbconvert_exporter": "python",
   "pygments_lexer": "ipython3",
   "version": "3.10.17"
  }
 },
 "nbformat": 4,
 "nbformat_minor": 2
}
